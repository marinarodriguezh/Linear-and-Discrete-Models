{
 "cells": [
  {
   "cell_type": "markdown",
   "metadata": {},
   "source": [
    "# First Homework: Linear and Discrete Models"
   ]
  },
  {
   "cell_type": "markdown",
   "metadata": {},
   "source": [
    "**Name:** Marina Rodríguez Hernández\n",
    "\n",
    "**NIA:** 100429893"
   ]
  },
  {
   "cell_type": "markdown",
   "metadata": {},
   "source": [
    "## Exercises a and b: Formulate problem and implement model\n",
    "\n",
    "For this first project, I was looking for something that could be practical and could help people. \n",
    "One day, I was talking with my parents and I asked my dad how his day was going. He told me he had spent all morning trying to figure out how to distribute his patients in order to be able to operate on the maximum number of people in a week, so they do not need to wait a long period of time until they can get surgery. \n",
    "This made me realize that there is always a giant waiting list for surgical procedures in public hospitals, so I thought that maybe finding a way to optimize the order of procedures depending on the time it takes to operate, could make the waiting time much lower for people needing these operations, and for surgeons because they wouldn't need to manage this.\n",
    "\n",
    "Problem formulation:\n",
    "\n",
    "· **Decision variables:** different procedures\n",
    "\n",
    "· **Objective:** maximize the hours a doctor is doing surgery so more people can have their operation\n",
    "\n",
    "· **Constraints:** maximum hours per week, minimum hours per week, maximum number of patients per procedure"
   ]
  },
  {
   "cell_type": "code",
   "execution_count": 23,
   "metadata": {},
   "outputs": [],
   "source": [
    "from pyomo.environ import *\n",
    "\n",
    "import pandas as pd"
   ]
  },
  {
   "cell_type": "markdown",
   "metadata": {},
   "source": [
    "In order to do this, I will be using a data set that shows:\n",
    "\n",
    "· An identifier for each patient\n",
    "\n",
    "· The diagnostic they have\n",
    "\n",
    "· The procedure they need\n",
    "\n",
    "· The hours it takes to operate each procedure\n",
    "\n",
    "· The doctor assigned \n",
    "\n",
    "· The number of people that need the same operation. \n",
    "\n",
    "In total it has 6 columns and 85 rows (85 patients waiting to have surgery)."
   ]
  },
  {
   "cell_type": "code",
   "execution_count": 24,
   "metadata": {},
   "outputs": [
    {
     "name": "stdout",
     "output_type": "stream",
     "text": [
      "    Patient                        Diagnostic                     Procedure  \\\n",
      "0        83  Listesis L5-S1+ discopatia L4-l5             Abordaje anterior   \n",
      "1        91                               HB4             Abordaje anterior   \n",
      "2        35                 Adenoma hipofisis          Abordaje endoscópico   \n",
      "3        61                             225.0          Abordaje endoscópico   \n",
      "4        62                 Adenoma hipofisis          Abordaje endoscópico   \n",
      "..      ...                               ...                           ...   \n",
      "80       88                            722.10                        P80.51   \n",
      "81       25             Sdme postlaminectomía            Retirada tornillos   \n",
      "82        4               Fract periprotésica           Retirada tornillos    \n",
      "83        5        Estenosis de canal  lumbar           Retirada tornillos    \n",
      "84       90           Espasticidad/paraplejia  Terapia intratecal Baclofeno   \n",
      "\n",
      "    Group  médico  Num of Procedures  \n",
      "0     3.5       1                  2  \n",
      "1     3.5       1                  2  \n",
      "2     4.0       0                  4  \n",
      "3     4.0       0                  4  \n",
      "4     4.0       0                  4  \n",
      "..    ...     ...                ...  \n",
      "80    1.5       1                  6  \n",
      "81    1.0       0                  3  \n",
      "82    1.0       0                  3  \n",
      "83    1.0       0                  3  \n",
      "84    1.0       1                  1  \n",
      "\n",
      "[85 rows x 6 columns]\n"
     ]
    }
   ],
   "source": [
    "df = pd.read_excel('Waiting2.xlsx')  \n",
    "print(df)"
   ]
  },
  {
   "cell_type": "markdown",
   "metadata": {},
   "source": [
    "First of all, I imported the dataset calling it df. Then I created different lists and dictionaries.\n",
    "\n",
    "· proc is a list with all the different procedures, these will be my **variables**\n",
    "\n",
    "· hours is a dictionary with the different procedures and the time it takes to operate them\n",
    "\n",
    "· numProc is a dictionary with the different procedures and how many people are waiting for the same operation\n",
    "\n",
    "· patient is a dictionary with the different procedures and the patients that need that procedure"
   ]
  },
  {
   "cell_type": "code",
   "execution_count": 25,
   "metadata": {},
   "outputs": [],
   "source": [
    "# Import data using pandas\n",
    "\n",
    "proc = list(set(df['Procedure'])) \n",
    "\n",
    "hours = df.set_index(['Procedure'])['Group'].to_dict()\n",
    "\n",
    "numProc = df.set_index(['Procedure'])['Num of Procedures'].to_dict()\n",
    "\n",
    "patient = df.set_index(['Procedure'])['Patient'].to_dict()"
   ]
  },
  {
   "cell_type": "markdown",
   "metadata": {},
   "source": [
    "Then, we need to define the model, the variables, and the objective.\n",
    "As I said before, the variables are the different procedures, and I will try to calculate how many should a surgeon operate in a week. The **objective** consists in maximizing the hours a doctor is doing surgery, in order to be able to have as many surgeries as possible."
   ]
  },
  {
   "cell_type": "code",
   "execution_count": 26,
   "metadata": {},
   "outputs": [],
   "source": [
    "## DEFINE MODEL ##\n",
    "model = ConcreteModel()\n",
    "\n",
    "#Define the variables\n",
    "model.x=Var(proc, domain=NonNegativeIntegers)\n",
    "\n",
    "\n",
    "#Define the objective: maximize the hours a doctor spends operating\n",
    "def obj_expression(model):\n",
    "    return sum(model.x[i] * hours[i] for i in proc)\n",
    "\n",
    "model.objective=Objective(rule=obj_expression, sense=maximize)\n"
   ]
  },
  {
   "cell_type": "markdown",
   "metadata": {},
   "source": [
    "After this, I need to define the **constraints**. First, I defined the maximum (40 hours) and the minimum (1 hour) number of hours a doctor can work in a week."
   ]
  },
  {
   "cell_type": "code",
   "execution_count": 27,
   "metadata": {},
   "outputs": [],
   "source": [
    "#constraints\n",
    "def upper_limit(model):\n",
    "    suma= sum(model.x[i] * hours[i] for i in proc) \n",
    "    return suma <= 40\n",
    "\n",
    "def lower_limit(model):\n",
    "    suma= sum(model.x[i] * hours[i] for i in proc) \n",
    "    return suma >= 1 \n",
    "\n",
    "model.constraint1=Constraint(rule=upper_limit)\n",
    "model.constraint2=Constraint(rule=lower_limit)"
   ]
  },
  {
   "cell_type": "markdown",
   "metadata": {},
   "source": [
    "Then, since there are some patients needing the same procedures, we could have the same procedure multiple times. In the numProc variable, you can see how many times a doctor needs to follow the same procedure in different people."
   ]
  },
  {
   "cell_type": "code",
   "execution_count": 28,
   "metadata": {},
   "outputs": [
    {
     "name": "stdout",
     "output_type": "stream",
     "text": [
      "{'Abordaje anterior': 2, 'Abordaje endoscópico': 4, 'Artrodesis cervical': 4, 'Artrodesis lumbar': 4, 'Craneoplastia': 1, 'Craneotomía': 5, 'Descompresión': 2, 'Disc c3-c4 yc 4-c5 + PEEK': 1, 'Disc caja': 2, 'disc caja placa': 2, 'Disc+art': 2, 'Disc+Peek': 7, 'Discectomía': 11, 'Discectomía artrodesis.': 4, 'Discectomía DIE': 1, 'Discectomía doble y caja': 1, 'Discectomía+ foraminotomía': 1, 'Embolización': 1, 'Exéresis': 2, 'Fusión': 3, 'Fusión Lumbar': 2, 'Laminectomía': 11, 'Microdiscectomía': 1, 'P80.51': 6, 'Retirada tornillos': 3, 'Retirada tornillos ': 3, 'Terapia intratecal Baclofeno': 1}\n"
     ]
    }
   ],
   "source": [
    "print(numProc)"
   ]
  },
  {
   "cell_type": "code",
   "execution_count": 29,
   "metadata": {},
   "outputs": [],
   "source": [
    "model.const1= Constraint(expr= model.x['Abordaje anterior'] <= 2)\n",
    "model.const2= Constraint(expr= model.x['Abordaje endoscópico'] <= 3)\n",
    "model.const3= Constraint(expr= model.x['Artrodesis cervical'] <= 4)\n",
    "model.const4= Constraint(expr= model.x['Artrodesis lumbar'] <= 4)\n",
    "model.const5= Constraint(expr= model.x['Craneotomía'] <= 5)\n",
    "model.const6= Constraint(expr= model.x['Disc c3-c4 yc 4-c5 + PEEK'] <= 1)\n",
    "model.const7= Constraint(expr= model.x['Disc caja'] <= 2)\n",
    "model.const8= Constraint(expr= model.x['disc caja placa'] <= 2)\n",
    "model.const9= Constraint(expr= model.x['Disc+Peek'] <= 7)\n",
    "model.const10= Constraint(expr= model.x['Disc+art'] <= 2)\n",
    "model.const11= Constraint(expr= model.x['Discectomía'] <= 11)\n",
    "model.const12= Constraint(expr= model.x['Discectomía artrodesis.'] <= 4)\n",
    "model.const13= Constraint(expr= model.x['Discectomía DIE'] <= 2)\n",
    "model.const14= Constraint(expr= model.x['Exéresis'] <= 2)\n",
    "model.const15= Constraint(expr= model.x['Fusión'] <= 3)\n",
    "model.const16= Constraint(expr= model.x['Fusión Lumbar'] <= 2)\n",
    "model.const17= Constraint(expr= model.x['Laminectomía'] <= 11)\n",
    "model.const18= Constraint(expr= model.x['P80.51'] <= 6)\n",
    "model.const19= Constraint(expr= model.x['Retirada tornillos'] <= 3)\n",
    "model.const20= Constraint(expr= model.x['Descompresión'] <= 2)\n",
    "model.const21= Constraint(expr= model.x['Craneoplastia'] <= 1)\n",
    "model.const22= Constraint(expr= model.x['Discectomía+ foraminotomía'] <= 1)\n",
    "model.const23= Constraint(expr= model.x['Embolización'] <= 1)\n",
    "model.const24= Constraint(expr= model.x['Microdiscectomía'] <= 1)\n",
    "model.const25= Constraint(expr= model.x['Terapia intratecal Baclofeno'] <= 1)"
   ]
  },
  {
   "cell_type": "markdown",
   "metadata": {},
   "source": [
    "To obtain the solution, I will use the glpk solver"
   ]
  },
  {
   "cell_type": "code",
   "execution_count": 30,
   "metadata": {},
   "outputs": [
    {
     "name": "stdout",
     "output_type": "stream",
     "text": [
      "Model unknown\n",
      "\n",
      "  Variables:\n",
      "    x : Size=27, Index=x_index\n",
      "        Key                          : Lower : Value : Upper : Fixed : Stale : Domain\n",
      "                   Abordaje anterior :     0 :   2.0 :  None : False : False : NonNegativeIntegers\n",
      "                Abordaje endoscópico :     0 :   0.0 :  None : False : False : NonNegativeIntegers\n",
      "                 Artrodesis cervical :     0 :   0.0 :  None : False : False : NonNegativeIntegers\n",
      "                   Artrodesis lumbar :     0 :   3.0 :  None : False : False : NonNegativeIntegers\n",
      "                       Craneoplastia :     0 :   0.0 :  None : False : False : NonNegativeIntegers\n",
      "                         Craneotomía :     0 :   5.0 :  None : False : False : NonNegativeIntegers\n",
      "                       Descompresión :     0 :   0.0 :  None : False : False : NonNegativeIntegers\n",
      "           Disc c3-c4 yc 4-c5 + PEEK :     0 :   0.0 :  None : False : False : NonNegativeIntegers\n",
      "                           Disc caja :     0 :   0.0 :  None : False : False : NonNegativeIntegers\n",
      "                           Disc+Peek :     0 :   0.0 :  None : False : False : NonNegativeIntegers\n",
      "                            Disc+art :     0 :   0.0 :  None : False : False : NonNegativeIntegers\n",
      "                         Discectomía :     0 :   0.0 :  None : False : False : NonNegativeIntegers\n",
      "                     Discectomía DIE :     0 :   0.0 :  None : False : False : NonNegativeIntegers\n",
      "             Discectomía artrodesis. :     0 :   0.0 :  None : False : False : NonNegativeIntegers\n",
      "            Discectomía doble y caja :     0 :   0.0 :  None : False : False : NonNegativeIntegers\n",
      "          Discectomía+ foraminotomía :     0 :   0.0 :  None : False : False : NonNegativeIntegers\n",
      "                        Embolización :     0 :   0.0 :  None : False : False : NonNegativeIntegers\n",
      "                            Exéresis :     0 :   0.0 :  None : False : False : NonNegativeIntegers\n",
      "                              Fusión :     0 :   0.0 :  None : False : False : NonNegativeIntegers\n",
      "                       Fusión Lumbar :     0 :   0.0 :  None : False : False : NonNegativeIntegers\n",
      "                        Laminectomía :     0 :   0.0 :  None : False : False : NonNegativeIntegers\n",
      "                    Microdiscectomía :     0 :   0.0 :  None : False : False : NonNegativeIntegers\n",
      "                              P80.51 :     0 :   0.0 :  None : False : False : NonNegativeIntegers\n",
      "                  Retirada tornillos :     0 :   0.0 :  None : False : False : NonNegativeIntegers\n",
      "                 Retirada tornillos  :     0 :   0.0 :  None : False : False : NonNegativeIntegers\n",
      "        Terapia intratecal Baclofeno :     0 :   0.0 :  None : False : False : NonNegativeIntegers\n",
      "                     disc caja placa :     0 :   0.0 :  None : False : False : NonNegativeIntegers\n",
      "\n",
      "  Objectives:\n",
      "    objective : Size=1, Index=None, Active=True\n",
      "        Key  : Active : Value\n",
      "        None :   True :  40.0\n",
      "\n",
      "  Constraints:\n",
      "    constraint1 : Size=1\n",
      "        Key  : Lower : Body : Upper\n",
      "        None :  None : 40.0 :  40.0\n",
      "    constraint2 : Size=1\n",
      "        Key  : Lower : Body : Upper\n",
      "        None :   1.0 : 40.0 :  None\n",
      "    const1 : Size=1\n",
      "        Key  : Lower : Body : Upper\n",
      "        None :  None :  2.0 :   2.0\n",
      "    const2 : Size=1\n",
      "        Key  : Lower : Body : Upper\n",
      "        None :  None :  0.0 :   3.0\n",
      "    const3 : Size=1\n",
      "        Key  : Lower : Body : Upper\n",
      "        None :  None :  0.0 :   4.0\n",
      "    const4 : Size=1\n",
      "        Key  : Lower : Body : Upper\n",
      "        None :  None :  3.0 :   4.0\n",
      "    const5 : Size=1\n",
      "        Key  : Lower : Body : Upper\n",
      "        None :  None :  5.0 :   5.0\n",
      "    const6 : Size=1\n",
      "        Key  : Lower : Body : Upper\n",
      "        None :  None :  0.0 :   1.0\n",
      "    const7 : Size=1\n",
      "        Key  : Lower : Body : Upper\n",
      "        None :  None :  0.0 :   2.0\n",
      "    const8 : Size=1\n",
      "        Key  : Lower : Body : Upper\n",
      "        None :  None :  0.0 :   2.0\n",
      "    const9 : Size=1\n",
      "        Key  : Lower : Body : Upper\n",
      "        None :  None :  0.0 :   7.0\n",
      "    const10 : Size=1\n",
      "        Key  : Lower : Body : Upper\n",
      "        None :  None :  0.0 :   2.0\n",
      "    const11 : Size=1\n",
      "        Key  : Lower : Body : Upper\n",
      "        None :  None :  0.0 :  11.0\n",
      "    const12 : Size=1\n",
      "        Key  : Lower : Body : Upper\n",
      "        None :  None :  0.0 :   4.0\n",
      "    const13 : Size=1\n",
      "        Key  : Lower : Body : Upper\n",
      "        None :  None :  0.0 :   2.0\n",
      "    const14 : Size=1\n",
      "        Key  : Lower : Body : Upper\n",
      "        None :  None :  0.0 :   2.0\n",
      "    const15 : Size=1\n",
      "        Key  : Lower : Body : Upper\n",
      "        None :  None :  0.0 :   3.0\n",
      "    const16 : Size=1\n",
      "        Key  : Lower : Body : Upper\n",
      "        None :  None :  0.0 :   2.0\n",
      "    const17 : Size=1\n",
      "        Key  : Lower : Body : Upper\n",
      "        None :  None :  0.0 :  11.0\n",
      "    const18 : Size=1\n",
      "        Key  : Lower : Body : Upper\n",
      "        None :  None :  0.0 :   6.0\n",
      "    const19 : Size=1\n",
      "        Key  : Lower : Body : Upper\n",
      "        None :  None :  0.0 :   3.0\n",
      "    const20 : Size=1\n",
      "        Key  : Lower : Body : Upper\n",
      "        None :  None :  0.0 :   2.0\n",
      "    const21 : Size=1\n",
      "        Key  : Lower : Body : Upper\n",
      "        None :  None :  0.0 :   1.0\n",
      "    const22 : Size=1\n",
      "        Key  : Lower : Body : Upper\n",
      "        None :  None :  0.0 :   1.0\n",
      "    const23 : Size=1\n",
      "        Key  : Lower : Body : Upper\n",
      "        None :  None :  0.0 :   1.0\n",
      "    const24 : Size=1\n",
      "        Key  : Lower : Body : Upper\n",
      "        None :  None :  0.0 :   1.0\n",
      "    const25 : Size=1\n",
      "        Key  : Lower : Body : Upper\n",
      "        None :  None :  0.0 :   1.0\n"
     ]
    }
   ],
   "source": [
    "opt = SolverFactory('glpk')\n",
    "\n",
    "results = opt.solve(model) \n",
    " \n",
    "model.display()\n",
    "\n"
   ]
  },
  {
   "cell_type": "code",
   "execution_count": 31,
   "metadata": {},
   "outputs": [
    {
     "name": "stdout",
     "output_type": "stream",
     "text": [
      "Total hours in a week= 40.0\n",
      "\n",
      "Selected Procedures:\n",
      "Procedure: Artrodesis lumbar , Number of surgeries: 3.0\n",
      "Procedure: Abordaje anterior , Number of surgeries: 2.0\n",
      "Procedure: Craneotomía , Number of surgeries: 5.0\n"
     ]
    }
   ],
   "source": [
    "print(\"Total hours in a week=\",model.objective())\n",
    "print('\\nSelected Procedures:')\n",
    "\n",
    "for i in proc:\n",
    "    if model.x[i]()>0:\n",
    "        print('Procedure:', i, ', Number of surgeries:', model.x[i]())"
   ]
  },
  {
   "cell_type": "markdown",
   "metadata": {},
   "source": [
    "This **solution** shows that in order to maximize the hours operating in the first week, a doctor should operate 5 'Craneotomía' (22.5 hrs), 3 'Artrodesis lumbar' (10.5 hrs) and 2 'Abordaje anterior' (7 hrs)"
   ]
  },
  {
   "cell_type": "markdown",
   "metadata": {},
   "source": [
    "## Exercise c: Sensitivities of each constraint\n"
   ]
  },
  {
   "cell_type": "markdown",
   "metadata": {},
   "source": [
    "Since the solutions to my problem are integers, I cannot use the dual function to get the sensitivities, therefore I changed the constraints each by each to see how the solution changes.\n",
    "\n",
    "· If I change the max number of hours from 40 to 41, the total hours stay being the maximum possible (41), but now I get some different procedures. Instead of getting 3 'Artrodesis lumbar', I get 1. In addition, I get a new procedure, 2 surgeries of 'Abordaje endoscópico'. If I keep increasing the maximum, it will obviously keep incresing the number of hours, since we are looking to optimize that. \n",
    "\n",
    "· If I change the minimum number of hours a doctor has to work in a week, the solution is not going to change. This is because I am trying to maximize the hours. However, I think I should keep this constraint just in case I want to change the problem and so it never gives a value of 0 procedures in th solution.\n",
    "\n",
    "· If I add 1 to the constraint of 'Abordaje anterior', the solution also changes. The doctor should operate now 3 'Abordaje anterior' instead of 2. If I keep increasing that value, the same thing happens to the solution. If I substract 1 instead of adding, the solution also changes. Now, it takes another procedure because there are not enough 'Abordaje anterior' to fill the hours.\n",
    "\n",
    "· Basically, it happens the same thing with the other constraints. Although, there are many procedures that the program is not selecting, these will be important for the future. When this first week ends, the procedures that were completed, will be erased from the list by the doctors, so all the constraints have the same level of importance."
   ]
  },
  {
   "cell_type": "markdown",
   "metadata": {},
   "source": [
    "## Exercise d: Modify the problem"
   ]
  },
  {
   "cell_type": "markdown",
   "metadata": {},
   "source": [
    "In this problem, I want to see which patients will be able to have surgery the first week.\n",
    "\n",
    "· **Decision variables:** the different procedures, (I want to see if an operation is done or not)\n",
    "\n",
    "· **Objective:** maximize surgery hours\n",
    "\n",
    "· **Constraints:** max hours per week, min hours per week, compatibility between procedures \n",
    "\n",
    "In this model, I am taking into account that there can only be 1 operation per procedure each week."
   ]
  },
  {
   "cell_type": "code",
   "execution_count": 32,
   "metadata": {},
   "outputs": [],
   "source": [
    "model2= ConcreteModel()\n",
    "\n",
    "#Define variables\n",
    "\n",
    "model2.x=Var(proc, domain=Binary)\n",
    "\n",
    "#Objective function: we must determine which patients to operate taking into account we want to maximize the hours\n",
    "def obj_expression(model):\n",
    "    return sum(model2.x[i] * hours[i] for i in proc)\n",
    "\n",
    "model2.objective=Objective(rule=obj_expression, sense=maximize)"
   ]
  },
  {
   "cell_type": "code",
   "execution_count": 33,
   "metadata": {},
   "outputs": [],
   "source": [
    "#constraints\n",
    "def upper_limit(model):\n",
    "    suma= sum(model2.x[i] * hours[i] for i in proc) \n",
    "    return suma <= 40\n",
    "\n",
    "def lower_limit(model):\n",
    "    suma= sum(model2.x[i] * hours[i] for i in proc) \n",
    "    return suma >= 1 \n",
    "\n",
    "model2.constraint1=Constraint(rule=upper_limit)\n",
    "model2.constraint2=Constraint(rule=lower_limit)"
   ]
  },
  {
   "cell_type": "markdown",
   "metadata": {},
   "source": [
    "There are some procedures that need to be done the same week because the doctors use the same materials. There are also some procedures that are not compatible in the same week. For instance, the procedures 'Abordaje endoscópico' and 'Craneotomía' cannot be done in the same week, or 'Abordaje anterior' and 'Disc+Peek' must be done in the same week."
   ]
  },
  {
   "cell_type": "code",
   "execution_count": 34,
   "metadata": {},
   "outputs": [],
   "source": [
    "model2.const1= Constraint(expr= model2.x['Abordaje endoscópico'] +  model2.x['Craneotomía'] <= 1)\n",
    "model2.const2= Constraint(expr= model2.x['Abordaje anterior'] - model2.x['Disc+Peek'] <= 0)\n",
    "model2.const3= Constraint(expr= model2.x['Artrodesis cervical'] + model2.x['Artrodesis lumbar']  <= 1)\n",
    "model2.const4= Constraint(expr= model2.x['Disc c3-c4 yc 4-c5 + PEEK'] + model2.x['disc caja placa'] <= 1)\n",
    "model2.const5= Constraint(expr= model2.x['Disc caja'] - model2.x['Laminectomía'] <= 0)"
   ]
  },
  {
   "cell_type": "code",
   "execution_count": 35,
   "metadata": {},
   "outputs": [
    {
     "name": "stdout",
     "output_type": "stream",
     "text": [
      "Model unknown\n",
      "\n",
      "  Variables:\n",
      "    x : Size=27, Index=x_index\n",
      "        Key                          : Lower : Value : Upper : Fixed : Stale : Domain\n",
      "                   Abordaje anterior :     0 :   1.0 :     1 : False : False : Binary\n",
      "                Abordaje endoscópico :     0 :   0.0 :     1 : False : False : Binary\n",
      "                 Artrodesis cervical :     0 :   0.0 :     1 : False : False : Binary\n",
      "                   Artrodesis lumbar :     0 :   1.0 :     1 : False : False : Binary\n",
      "                       Craneoplastia :     0 :   1.0 :     1 : False : False : Binary\n",
      "                         Craneotomía :     0 :   1.0 :     1 : False : False : Binary\n",
      "                       Descompresión :     0 :   1.0 :     1 : False : False : Binary\n",
      "           Disc c3-c4 yc 4-c5 + PEEK :     0 :   0.0 :     1 : False : False : Binary\n",
      "                           Disc caja :     0 :   1.0 :     1 : False : False : Binary\n",
      "                           Disc+Peek :     0 :   1.0 :     1 : False : False : Binary\n",
      "                            Disc+art :     0 :   1.0 :     1 : False : False : Binary\n",
      "                         Discectomía :     0 :   1.0 :     1 : False : False : Binary\n",
      "                     Discectomía DIE :     0 :   1.0 :     1 : False : False : Binary\n",
      "             Discectomía artrodesis. :     0 :   1.0 :     1 : False : False : Binary\n",
      "            Discectomía doble y caja :     0 :   1.0 :     1 : False : False : Binary\n",
      "          Discectomía+ foraminotomía :     0 :   1.0 :     1 : False : False : Binary\n",
      "                        Embolización :     0 :   1.0 :     1 : False : False : Binary\n",
      "                            Exéresis :     0 :   1.0 :     1 : False : False : Binary\n",
      "                              Fusión :     0 :   1.0 :     1 : False : False : Binary\n",
      "                       Fusión Lumbar :     0 :   1.0 :     1 : False : False : Binary\n",
      "                        Laminectomía :     0 :   1.0 :     1 : False : False : Binary\n",
      "                    Microdiscectomía :     0 :   1.0 :     1 : False : False : Binary\n",
      "                              P80.51 :     0 :   1.0 :     1 : False : False : Binary\n",
      "                  Retirada tornillos :     0 :   1.0 :     1 : False : False : Binary\n",
      "                 Retirada tornillos  :     0 :   1.0 :     1 : False : False : Binary\n",
      "        Terapia intratecal Baclofeno :     0 :   0.0 :     1 : False : False : Binary\n",
      "                     disc caja placa :     0 :   1.0 :     1 : False : False : Binary\n",
      "\n",
      "  Objectives:\n",
      "    objective : Size=1, Index=None, Active=True\n",
      "        Key  : Active : Value\n",
      "        None :   True :  40.0\n",
      "\n",
      "  Constraints:\n",
      "    constraint1 : Size=1\n",
      "        Key  : Lower : Body : Upper\n",
      "        None :  None : 40.0 :  40.0\n",
      "    constraint2 : Size=1\n",
      "        Key  : Lower : Body : Upper\n",
      "        None :   1.0 : 40.0 :  None\n",
      "    const1 : Size=1\n",
      "        Key  : Lower : Body : Upper\n",
      "        None :  None :  1.0 :   1.0\n",
      "    const2 : Size=1\n",
      "        Key  : Lower : Body : Upper\n",
      "        None :  None :  0.0 :   0.0\n",
      "    const3 : Size=1\n",
      "        Key  : Lower : Body : Upper\n",
      "        None :  None :  1.0 :   1.0\n",
      "    const4 : Size=1\n",
      "        Key  : Lower : Body : Upper\n",
      "        None :  None :  1.0 :   1.0\n",
      "    const5 : Size=1\n",
      "        Key  : Lower : Body : Upper\n",
      "        None :  None :  0.0 :   0.0\n"
     ]
    }
   ],
   "source": [
    "opt = SolverFactory('glpk')\n",
    "\n",
    "results = opt.solve(model2)  # solve the model with the selected solver\n",
    " \n",
    "model2.display()"
   ]
  },
  {
   "cell_type": "code",
   "execution_count": 36,
   "metadata": {},
   "outputs": [
    {
     "name": "stdout",
     "output_type": "stream",
     "text": [
      "Total hours in a week= 40.0\n",
      "\n",
      "Patients getting surgery:\n",
      "Patient: 5\n",
      "Patient: 78\n",
      "Patient: 54\n",
      "Patient: 71\n",
      "Patient: 87\n",
      "Patient: 91\n",
      "Patient: 19\n",
      "Patient: 68\n",
      "Patient: 57\n",
      "Patient: 81\n",
      "Patient: 77\n",
      "Patient: 88\n",
      "Patient: 25\n",
      "Patient: 58\n",
      "Patient: 80\n",
      "Patient: 89\n",
      "Patient: 84\n",
      "Patient: 11\n",
      "Patient: 65\n",
      "Patient: 15\n",
      "Patient: 75\n",
      "Patient: 28\n",
      "Patient: 22\n"
     ]
    }
   ],
   "source": [
    "print(\"Total hours in a week=\",model2.objective())\n",
    "print('\\nPatients getting surgery:')\n",
    "\n",
    "for i in proc:\n",
    "    if model2.x[i]()==1:\n",
    "        print('Patient:', patient[i])"
   ]
  },
  {
   "cell_type": "markdown",
   "metadata": {},
   "source": [
    "Above you can see the patients that will get their surgery the first week because their procedures meet all the constraints."
   ]
  }
 ],
 "metadata": {
  "kernelspec": {
   "display_name": "Python 3",
   "language": "python",
   "name": "python3"
  },
  "language_info": {
   "codemirror_mode": {
    "name": "ipython",
    "version": 3
   },
   "file_extension": ".py",
   "mimetype": "text/x-python",
   "name": "python",
   "nbconvert_exporter": "python",
   "pygments_lexer": "ipython3",
   "version": "3.7.4"
  }
 },
 "nbformat": 4,
 "nbformat_minor": 4
}
